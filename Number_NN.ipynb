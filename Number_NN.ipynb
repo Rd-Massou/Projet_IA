{
 "cells": [
  {
   "cell_type": "code",
   "execution_count": 1,
   "metadata": {
    "collapsed": true
   },
   "outputs": [],
   "source": [
    "import torch\n",
    "from torchvision import datasets as ds"
   ]
  },
  {
   "cell_type": "code",
   "execution_count": 2,
   "outputs": [],
   "source": [
    "MNIST_ds = ds.MNIST(\"Training_Data/\", train = True, download = True)\n"
   ],
   "metadata": {
    "collapsed": false,
    "pycharm": {
     "name": "#%%\n"
    }
   }
  },
  {
   "cell_type": "code",
   "execution_count": 3,
   "outputs": [],
   "source": [
    "from sklearn.linear_model import LinearRegression\n",
    "from pandas import DataFrame"
   ],
   "metadata": {
    "collapsed": false,
    "pycharm": {
     "name": "#%%\n"
    }
   }
  },
  {
   "cell_type": "code",
   "execution_count": 4,
   "outputs": [],
   "source": [
    "def featureExtract(xValues,yValues):\n",
    "    operation = LinearRegression()\n",
    "    operation.fit(xValues,yValues)\n",
    "    result1 = 2 * operation.intercept_ / (1 + operation.intercept_**2)\n",
    "    result2 = (1 - operation.intercept_**2) / (1 + operation.intercept_**2)\n",
    "    return result1, result2\n",
    "\n",
    "def splitImage(image):\n",
    "    L = image.numpy()\n",
    "    B = [[] for _ in range(16)]\n",
    "    for i in range (4):\n",
    "        for j in range(4):\n",
    "            for k in range(int(len(L[0])/4)):\n",
    "                B[i*4 + j].append(L[int(len(L[0])/4)*i + k][int(len(L[0])/4)*j:int(len(L[0])/4)*(j+1)].tolist())\n",
    "    return B\n",
    "\n",
    "def processItem(item):\n",
    "    numberOfBlackPixels = 0\n",
    "    X,Y = [],[]\n",
    "    for i in range(len(item)):\n",
    "        for j in range(len(item)):\n",
    "            if item[i][j] != 0:\n",
    "                numberOfBlackPixels += 1\n",
    "                X.append(i)\n",
    "                Y.append(j)\n",
    "    if len(X) > 0:\n",
    "        df = DataFrame(X, columns=['xvalues'])\n",
    "        df['yvalues'] = Y\n",
    "        result2, result3 = featureExtract(df[['xvalues']], df.yvalues)\n",
    "    else:\n",
    "        result2, result3 = 0.0, 0.0\n",
    "    return [numberOfBlackPixels/(len(item))**2, result2, result3]"
   ],
   "metadata": {
    "collapsed": false,
    "pycharm": {
     "name": "#%%\n"
    }
   }
  },
  {
   "cell_type": "code",
   "execution_count": 7,
   "outputs": [
    {
     "data": {
      "text/plain": "[[[0, 0, 0, 0, 0, 0, 0],\n  [0, 0, 0, 0, 0, 0, 0],\n  [0, 0, 0, 0, 0, 0, 0],\n  [0, 0, 0, 0, 0, 0, 0],\n  [0, 0, 0, 0, 0, 0, 0],\n  [0, 0, 0, 0, 0, 0, 0],\n  [0, 0, 0, 0, 0, 0, 0]],\n [[0, 0, 0, 0, 0, 0, 0],\n  [0, 0, 0, 0, 0, 0, 0],\n  [0, 0, 0, 0, 0, 0, 0],\n  [0, 0, 0, 0, 0, 0, 0],\n  [0, 0, 0, 0, 0, 0, 0],\n  [0, 0, 0, 0, 0, 3, 18],\n  [0, 30, 36, 94, 154, 170, 253]],\n [[0, 0, 0, 0, 0, 0, 0],\n  [0, 0, 0, 0, 0, 0, 0],\n  [0, 0, 0, 0, 0, 0, 0],\n  [0, 0, 0, 0, 0, 0, 0],\n  [0, 0, 0, 0, 0, 0, 0],\n  [18, 18, 126, 136, 175, 26, 166],\n  [253, 253, 253, 253, 225, 172, 253]],\n [[0, 0, 0, 0, 0, 0, 0],\n  [0, 0, 0, 0, 0, 0, 0],\n  [0, 0, 0, 0, 0, 0, 0],\n  [0, 0, 0, 0, 0, 0, 0],\n  [0, 0, 0, 0, 0, 0, 0],\n  [255, 247, 127, 0, 0, 0, 0],\n  [242, 195, 64, 0, 0, 0, 0]],\n [[0, 0, 0, 0, 0, 0, 0],\n  [0, 0, 0, 0, 0, 0, 0],\n  [0, 0, 0, 0, 0, 0, 0],\n  [0, 0, 0, 0, 0, 0, 0],\n  [0, 0, 0, 0, 0, 0, 0],\n  [0, 0, 0, 0, 0, 0, 0],\n  [0, 0, 0, 0, 0, 0, 0]],\n [[49, 238, 253, 253, 253, 253, 253],\n  [18, 219, 253, 253, 253, 253, 253],\n  [0, 80, 156, 107, 253, 253, 205],\n  [0, 0, 14, 1, 154, 253, 90],\n  [0, 0, 0, 0, 139, 253, 190],\n  [0, 0, 0, 0, 11, 190, 253],\n  [0, 0, 0, 0, 0, 35, 241]],\n [[253, 253, 253, 251, 93, 82, 82],\n  [198, 182, 247, 241, 0, 0, 0],\n  [11, 0, 43, 154, 0, 0, 0],\n  [0, 0, 0, 0, 0, 0, 0],\n  [2, 0, 0, 0, 0, 0, 0],\n  [70, 0, 0, 0, 0, 0, 0],\n  [225, 160, 108, 1, 0, 0, 0]],\n [[56, 39, 0, 0, 0, 0, 0],\n  [0, 0, 0, 0, 0, 0, 0],\n  [0, 0, 0, 0, 0, 0, 0],\n  [0, 0, 0, 0, 0, 0, 0],\n  [0, 0, 0, 0, 0, 0, 0],\n  [0, 0, 0, 0, 0, 0, 0],\n  [0, 0, 0, 0, 0, 0, 0]],\n [[0, 0, 0, 0, 0, 0, 0],\n  [0, 0, 0, 0, 0, 0, 0],\n  [0, 0, 0, 0, 0, 0, 0],\n  [0, 0, 0, 0, 0, 0, 0],\n  [0, 0, 0, 0, 0, 0, 0],\n  [0, 0, 0, 0, 0, 0, 0],\n  [0, 0, 0, 0, 0, 0, 0]],\n [[0, 0, 0, 0, 0, 0, 81],\n  [0, 0, 0, 0, 0, 0, 0],\n  [0, 0, 0, 0, 0, 0, 0],\n  [0, 0, 0, 0, 0, 0, 0],\n  [0, 0, 0, 0, 0, 0, 0],\n  [0, 0, 0, 0, 0, 39, 148],\n  [0, 0, 0, 24, 114, 221, 253]],\n [[240, 253, 253, 119, 25, 0, 0],\n  [45, 186, 253, 253, 150, 27, 0],\n  [0, 16, 93, 252, 253, 187, 0],\n  [0, 0, 0, 249, 253, 249, 64],\n  [46, 130, 183, 253, 253, 207, 2],\n  [229, 253, 253, 253, 250, 182, 0],\n  [253, 253, 253, 201, 78, 0, 0]],\n [[0, 0, 0, 0, 0, 0, 0],\n  [0, 0, 0, 0, 0, 0, 0],\n  [0, 0, 0, 0, 0, 0, 0],\n  [0, 0, 0, 0, 0, 0, 0],\n  [0, 0, 0, 0, 0, 0, 0],\n  [0, 0, 0, 0, 0, 0, 0],\n  [0, 0, 0, 0, 0, 0, 0]],\n [[0, 0, 0, 0, 0, 0, 0],\n  [0, 0, 0, 0, 0, 0, 18],\n  [0, 0, 0, 0, 55, 172, 226],\n  [0, 0, 0, 0, 136, 253, 253],\n  [0, 0, 0, 0, 0, 0, 0],\n  [0, 0, 0, 0, 0, 0, 0],\n  [0, 0, 0, 0, 0, 0, 0]],\n [[0, 23, 66, 213, 253, 253, 253],\n  [171, 219, 253, 253, 253, 253, 195],\n  [253, 253, 253, 253, 244, 133, 11],\n  [253, 212, 135, 132, 16, 0, 0],\n  [0, 0, 0, 0, 0, 0, 0],\n  [0, 0, 0, 0, 0, 0, 0],\n  [0, 0, 0, 0, 0, 0, 0]],\n [[253, 198, 81, 2, 0, 0, 0],\n  [80, 9, 0, 0, 0, 0, 0],\n  [0, 0, 0, 0, 0, 0, 0],\n  [0, 0, 0, 0, 0, 0, 0],\n  [0, 0, 0, 0, 0, 0, 0],\n  [0, 0, 0, 0, 0, 0, 0],\n  [0, 0, 0, 0, 0, 0, 0]],\n [[0, 0, 0, 0, 0, 0, 0],\n  [0, 0, 0, 0, 0, 0, 0],\n  [0, 0, 0, 0, 0, 0, 0],\n  [0, 0, 0, 0, 0, 0, 0],\n  [0, 0, 0, 0, 0, 0, 0],\n  [0, 0, 0, 0, 0, 0, 0],\n  [0, 0, 0, 0, 0, 0, 0]]]"
     },
     "execution_count": 7,
     "metadata": {},
     "output_type": "execute_result"
    }
   ],
   "source": [
    "splited_data = []\n",
    "for i in range(60000):\n",
    "    splited_data.append(splitImage(MNIST_ds.data[i]))\n",
    "splited_data[0]"
   ],
   "metadata": {
    "collapsed": false,
    "pycharm": {
     "name": "#%%\n"
    }
   }
  },
  {
   "cell_type": "code",
   "execution_count": null,
   "outputs": [],
   "source": [
    "train_data = []\n",
    "for i in range(60000):\n",
    "    features = []\n",
    "    for item in splited_data[i]:\n",
    "        features.append(processItem(item))\n",
    "    train_data.append((torch.tensor(features), MNIST_ds[i][1]))\n",
    "    print(\"Sample n°\",i,\" done!\")\n",
    "train_data[0]"
   ],
   "metadata": {
    "collapsed": false,
    "pycharm": {
     "name": "#%%\n"
    }
   }
  },
  {
   "cell_type": "code",
   "execution_count": null,
   "outputs": [],
   "source": [
    "import torch.nn as nn\n",
    "import torch.nn.functional as fn"
   ],
   "metadata": {
    "collapsed": false,
    "pycharm": {
     "name": "#%%\n"
    }
   }
  },
  {
   "cell_type": "code",
   "execution_count": null,
   "outputs": [],
   "source": [
    "inputSize = 3*16\n",
    "outputSize = 10\n",
    "class NumberDet(nn.Module):\n",
    "\n",
    "    def __init__(self):\n",
    "        super().__init__()\n",
    "        self.input = nn.Linear(inputSize,48)\n",
    "        self.hidden = nn.Linear(32,16)\n",
    "        self.output = nn.Linear(16,outputSize)\n",
    "\n",
    "    def forward(self,x):\n",
    "        x = fn.relu(self.input(x))\n",
    "        x = fn.relu(self.hidden(x))\n",
    "        x = self.output(x)\n",
    "        return fn.log_softmax(x, dim=1)"
   ],
   "metadata": {
    "collapsed": false,
    "pycharm": {
     "name": "#%%\n"
    }
   }
  }
 ],
 "metadata": {
  "kernelspec": {
   "display_name": "Python 3",
   "language": "python",
   "name": "python3"
  },
  "language_info": {
   "codemirror_mode": {
    "name": "ipython",
    "version": 2
   },
   "file_extension": ".py",
   "mimetype": "text/x-python",
   "name": "python",
   "nbconvert_exporter": "python",
   "pygments_lexer": "ipython2",
   "version": "2.7.6"
  }
 },
 "nbformat": 4,
 "nbformat_minor": 0
}